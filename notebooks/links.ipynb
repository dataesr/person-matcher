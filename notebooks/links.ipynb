{
 "cells": [
  {
   "cell_type": "code",
   "execution_count": 1,
   "id": "4239eced",
   "metadata": {},
   "outputs": [],
   "source": [
    "import requests, json\n",
    "import pandas as pd\n",
    "from collections import Counter"
   ]
  },
  {
   "cell_type": "code",
   "execution_count": 53,
   "id": "e12480d8",
   "metadata": {},
   "outputs": [],
   "source": [
    "input_coaut_key = 'folland'\n",
    "url = 'https://scanr-api.enseignementsup-recherche.gouv.fr/api/v2/publications/search'\n",
    "data = requests.post(url, json={\n",
    "    'query': '\"frédéric olland\"',\n",
    "    'pageSize': 500,\n",
    "'searchFields': ['authors.fullName'],\n",
    "    'sourceFields': ['title', 'id', 'authors', 'source.journalIssns', 'keywords', 'type']\n",
    "}).json()\n",
    "\n",
    "publis = []\n",
    "for d in data['results']:\n",
    "    new_elt = {\n",
    "    'id': d['value']['id'],\n",
    "    'title': d['value']['title']['default'],\n",
    "    'authors': d['value']['authors'],\n",
    "    'type': d['value']['type'],\n",
    "    'issns': d['value'].get('source', {}).get('journalIssns', []),\n",
    "    'keywords': d['value'].get('keywords', {}).get('default', [])\n",
    "          }\n",
    "    publis.append(new_elt)\n",
    "json.dump(publis, open('publis.json', 'w'))"
   ]
  },
  {
   "cell_type": "code",
   "execution_count": 54,
   "id": "234eb3c4",
   "metadata": {},
   "outputs": [],
   "source": [
    "#publis = json.load(open('publis.json', 'r'))"
   ]
  },
  {
   "cell_type": "code",
   "execution_count": 55,
   "id": "a5fa280e",
   "metadata": {},
   "outputs": [],
   "source": [
    "for p in publis:\n",
    "    p['nb_authors'] = len(p.get('authors', []))\n",
    "    if 'these' not in p['id']:\n",
    "        for a in p.get('authors', []):\n",
    "            if 'person' in a:\n",
    "                del a['person']\n",
    "    else:\n",
    "        for a in p.get('authors', []):\n",
    "            if 'person' in a:\n",
    "                a['id'] = a['person']['id']\n",
    "                del a['person']\n",
    "        \n",
    "    \n",
    "publis = sorted(publis, key=lambda p: p['nb_authors'], reverse=True) "
   ]
  },
  {
   "cell_type": "code",
   "execution_count": 56,
   "id": "f8ab3777",
   "metadata": {},
   "outputs": [],
   "source": [
    "def normalize(x):\n",
    "    x = x.lower().strip().replace('è', 'e').replace('é', 'e')\n",
    "    x = x.replace(' ','').replace('-', '').replace('.', '').replace(' ', '')\n",
    "    return x"
   ]
  },
  {
   "cell_type": "code",
   "execution_count": 57,
   "id": "4368277a",
   "metadata": {},
   "outputs": [
    {
     "data": {
      "text/plain": [
       "3"
      ]
     },
     "execution_count": 57,
     "metadata": {},
     "output_type": "execute_result"
    }
   ],
   "source": [
    "df = pd.DataFrame(publis)\n",
    "len(df)"
   ]
  },
  {
   "cell_type": "code",
   "execution_count": 58,
   "id": "0b5761d8",
   "metadata": {},
   "outputs": [],
   "source": [
    "def merge_clusters(proposed_clusters, target, entity_to_cluster, cluster_to_entities):\n",
    "    print(f\"merging {proposed_clusters} to {target}\")\n",
    "    for aut in entity_to_cluster:\n",
    "        if entity_to_cluster[aut] in proposed_clusters:\n",
    "            entity_to_cluster[aut] = target\n",
    "    for c in proposed_clusters:\n",
    "        if c != target:\n",
    "            del cluster_to_entities[c]"
   ]
  },
  {
   "cell_type": "code",
   "execution_count": 59,
   "id": "2a3a6a37",
   "metadata": {},
   "outputs": [],
   "source": [
    "def get_main_modality(x):\n",
    "    cnt = Counter()\n",
    "    for e in x:\n",
    "        cnt[e] +=1\n",
    "    top_2 = cnt.most_common(2)\n",
    "    assert(len(top_2) == 2)\n",
    "    if top_2[0][1] > top_2[1][1]:\n",
    "        return top_2[0][0]\n",
    "    return None"
   ]
  },
  {
   "cell_type": "code",
   "execution_count": 60,
   "id": "bfa8b5e9",
   "metadata": {},
   "outputs": [],
   "source": [
    "entity_to_cluster = {}\n",
    "cluster_to_entities = {}\n",
    "\n",
    "for p in publis:\n",
    "    entity_linked = []\n",
    "    for a in p.get('authors', []):\n",
    "        if a.get('lastName') and a.get('firstName'):\n",
    "            co_aut = normalize(a.get('firstName'))[0]+normalize(a.get('lastName'))\n",
    "            a['coaut_key'] = co_aut\n",
    "            if co_aut != input_coaut_key and len(co_aut)> 4:\n",
    "                entity_linked.append(co_aut)\n",
    "    for issn in p.get('issns', []):\n",
    "        entity_linked.append(issn)\n",
    "    for kw in p.get('keywords', []):\n",
    "        entity_linked.append(normalize(kw))\n",
    "    \n",
    "    entity_linked = list(set(entity_linked))\n",
    "    p['entity_linked'] = entity_linked\n",
    "    if not entity_linked:\n",
    "        continue\n",
    "    \n",
    "    current_cluster = None\n",
    "    possible_clusters = []\n",
    "    for entity in entity_linked:\n",
    "        if entity in entity_to_cluster:\n",
    "            possible_clusters.append(entity_to_cluster[entity])\n",
    "\n",
    "       \n",
    "    if len(set(possible_clusters))>1:\n",
    "        current_cluster = get_main_modality(possible_clusters)\n",
    "        #print(f\"getting main for {proposed_clusters} : {know_cluster}\")\n",
    "        #know_cluster = merge_clusters(proposed_cluster, min(proposed_cluster))\n",
    "    elif len(set(possible_clusters)) == 1:\n",
    "        current_cluster = possible_clusters[0]\n",
    "        \n",
    "\n",
    "            \n",
    "    if current_cluster is None:\n",
    "        current_cluster = len(cluster_to_entities)   \n",
    "        #print(\"new cluster with\" + str(co_authors))\n",
    "        cluster_to_entities[current_cluster] = []\n",
    "        \n",
    "    for entity in entity_linked:\n",
    "        if entity not in entity_to_cluster:\n",
    "            entity_to_clsuster[entity] = current_cluster\n",
    "        #else:\n",
    "        #    if entity_to_cluster[entity] != current_cluster:\n",
    "        #        pass\n",
    "                #print(f'{co_author_to_cluster[co_aut]}, {know_cluster}')\n",
    "\n",
    "    cluster_to_entities[current_cluster] += entity_linked\n",
    "    cluster_to_entities[current_cluster] = list(set(cluster_to_entities[current_cluster]))\n",
    "                   "
   ]
  },
  {
   "cell_type": "code",
   "execution_count": 61,
   "id": "1a570c3e",
   "metadata": {},
   "outputs": [],
   "source": [
    "for p in publis:\n",
    "    clusters = []\n",
    "    for c in p['entity_linked']:\n",
    "        clusters.append(entity_to_cluster[c])\n",
    "    clusters = list(set(clusters))\n",
    "    \n",
    "    if len(clusters) == 1:\n",
    "        p['cluster'] = clusters[0]\n",
    "    else:\n",
    "        p['cluster'] = None\n",
    "    \n",
    "    #if len(clusters)>1:\n",
    "    #    print(clusters)\n",
    "    #    #merge_clusters(clusters, min(clusters))\n",
    "    #    pass\n",
    "    #if clusters:\n",
    "    #    p['cluster'] = ';'.join([str(c) for c in clusters])\n",
    "    #else:\n",
    "    #    p['cluster'] = 'no'"
   ]
  },
  {
   "cell_type": "code",
   "execution_count": 62,
   "id": "b119bf12",
   "metadata": {},
   "outputs": [],
   "source": [
    "def get_id(cluster_id):\n",
    "    known_ids = []\n",
    "    publis_in_cluster = [p for p in publis if p['cluster'] == cluster_id]\n",
    "    for p in publis_in_cluster:\n",
    "        for a in p.get('authors'):\n",
    "            if 'coaut_key' in a and a['coaut_key'] == input_coaut_key and 'id' in a:\n",
    "                known_ids.append(a['id'])\n",
    "    if len(set(known_ids))> 1:\n",
    "        print(f\"cluster {cluster_id} seems mixed up\")\n",
    "        return None\n",
    "    if known_ids:\n",
    "        return known_ids[0]"
   ]
  },
  {
   "cell_type": "code",
   "execution_count": 63,
   "id": "9259dbaa",
   "metadata": {},
   "outputs": [
    {
     "name": "stdout",
     "output_type": "stream",
     "text": [
      "merging [0] to idref183975154\n"
     ]
    }
   ],
   "source": [
    "existing_clusters = list(cluster_to_entities.keys())\n",
    "for cluster in existing_clusters:\n",
    "    idref = get_id(cluster)\n",
    "    if idref:\n",
    "        merge_clusters([cluster], idref)"
   ]
  },
  {
   "cell_type": "code",
   "execution_count": 64,
   "id": "e855ea9c",
   "metadata": {},
   "outputs": [],
   "source": [
    "ix = 0\n",
    "while ix < 10:\n",
    "    ix +=1\n",
    "    for p in publis:\n",
    "        clusters = []\n",
    "        for c in p['entity_linked']:\n",
    "            clusters.append(entity_to_cluster[c])\n",
    "        clusters = list(set(clusters))\n",
    "\n",
    "        if len(clusters)>1:\n",
    "            matching_ids = [c for c in clusters if 'idref' in str(c)]\n",
    "            if len(matching_ids) == 1:\n",
    "                merge_clusters(clusters, matching_ids[0])\n",
    "            else:\n",
    "                pass\n",
    "        if clusters:\n",
    "            p['cluster'] = ';'.join([str(c) for c in clusters])\n",
    "        else:\n",
    "            p['cluster'] = None"
   ]
  },
  {
   "cell_type": "code",
   "execution_count": 65,
   "id": "26f150f9",
   "metadata": {},
   "outputs": [
    {
     "data": {
      "text/plain": [
       "idref183975154    2\n",
       "1                 1\n",
       "Name: cluster, dtype: int64"
      ]
     },
     "execution_count": 65,
     "metadata": {},
     "output_type": "execute_result"
    }
   ],
   "source": [
    "df_res = pd.DataFrame(publis)\n",
    "df_res.cluster.value_counts()"
   ]
  },
  {
   "cell_type": "code",
   "execution_count": 68,
   "id": "b1f1e12f",
   "metadata": {},
   "outputs": [
    {
     "data": {
      "text/html": [
       "<div>\n",
       "<style scoped>\n",
       "    .dataframe tbody tr th:only-of-type {\n",
       "        vertical-align: middle;\n",
       "    }\n",
       "\n",
       "    .dataframe tbody tr th {\n",
       "        vertical-align: top;\n",
       "    }\n",
       "\n",
       "    .dataframe thead th {\n",
       "        text-align: right;\n",
       "    }\n",
       "</style>\n",
       "<table border=\"1\" class=\"dataframe\">\n",
       "  <thead>\n",
       "    <tr style=\"text-align: right;\">\n",
       "      <th></th>\n",
       "      <th>id</th>\n",
       "      <th>title</th>\n",
       "      <th>authors</th>\n",
       "      <th>type</th>\n",
       "      <th>issns</th>\n",
       "      <th>keywords</th>\n",
       "      <th>nb_authors</th>\n",
       "      <th>entity_linked</th>\n",
       "      <th>cluster</th>\n",
       "    </tr>\n",
       "  </thead>\n",
       "  <tbody>\n",
       "    <tr>\n",
       "      <th>1</th>\n",
       "      <td>doi10.3917/redp.244.0537</td>\n",
       "      <td>Self-selection into export markets: Does produ...</td>\n",
       "      <td>[{'role': 'author', 'firstName': 'Xi', 'lastNa...</td>\n",
       "      <td>journal-article</td>\n",
       "      <td>[0373-2630, 2105-2883]</td>\n",
       "      <td>[]</td>\n",
       "      <td>2</td>\n",
       "      <td>[2105-2883, 0373-2630, xchen]</td>\n",
       "      <td>1</td>\n",
       "    </tr>\n",
       "  </tbody>\n",
       "</table>\n",
       "</div>"
      ],
      "text/plain": [
       "                         id  \\\n",
       "1  doi10.3917/redp.244.0537   \n",
       "\n",
       "                                               title  \\\n",
       "1  Self-selection into export markets: Does produ...   \n",
       "\n",
       "                                             authors             type  \\\n",
       "1  [{'role': 'author', 'firstName': 'Xi', 'lastNa...  journal-article   \n",
       "\n",
       "                    issns keywords  nb_authors                  entity_linked  \\\n",
       "1  [0373-2630, 2105-2883]       []           2  [2105-2883, 0373-2630, xchen]   \n",
       "\n",
       "  cluster  \n",
       "1       1  "
      ]
     },
     "execution_count": 68,
     "metadata": {},
     "output_type": "execute_result"
    }
   ],
   "source": [
    "df_res[df_res.cluster=='1']#.sample(10)"
   ]
  },
  {
   "cell_type": "code",
   "execution_count": null,
   "id": "ea2ee14c",
   "metadata": {},
   "outputs": [],
   "source": [
    "\"tol de \".replace(\" \", '')"
   ]
  },
  {
   "cell_type": "code",
   "execution_count": null,
   "id": "05d13c90",
   "metadata": {},
   "outputs": [],
   "source": [
    "df_res[df_res.cluster=='0'].authors.values[0]"
   ]
  },
  {
   "cell_type": "code",
   "execution_count": null,
   "id": "f4cfab8f",
   "metadata": {},
   "outputs": [],
   "source": [
    "df_encoded = pd.DataFrame(data_to_cluster).fillna(0)\n",
    "cols_to_drop = []\n",
    "for c in list(df_encoded.columns):\n",
    "    if df_encoded[c].sum() <5:\n",
    "        cols_to_drop.append(c)\n",
    "\n",
    "df_encoded = df_encoded.drop(cols_to_drop, axis=1)\n",
    "df_encoded"
   ]
  },
  {
   "cell_type": "code",
   "execution_count": null,
   "id": "a31077f7",
   "metadata": {},
   "outputs": [],
   "source": [
    "from sklearn.feature_extraction.text import TfidfVectorizer\n",
    "vec = TfidfVectorizer(use_idf=True, stop_words='english', strip_accents='unicode', ngram_range=(1,2), max_features=100)\n",
    "matrix = vec.fit_transform([p['title'] for p in publis])\n",
    "df_title = pd.DataFrame(matrix.toarray(), columns=vec.get_feature_names())\n",
    "cols_to_drop = []\n",
    "for c in df_title.columns:\n",
    "    if len(c)<5:\n",
    "        cols_to_drop.append(c)\n",
    "df_title = df_title.drop(cols_to_drop, axis=1)\n",
    "df_title"
   ]
  },
  {
   "cell_type": "code",
   "execution_count": null,
   "id": "8394ca82",
   "metadata": {},
   "outputs": [],
   "source": [
    "from sklearn.feature_extraction.text import TfidfVectorizer\n",
    "vec = TfidfVectorizer(use_idf=True, strip_accents='unicode', max_features=100)\n",
    "matrix = vec.fit_transform([' '.join(p['co_authors']) for p in publis])\n",
    "df_co = pd.DataFrame(matrix.toarray(), columns=vec.get_feature_names())\n",
    "cols_to_drop = []\n",
    "for c in df_co.columns:\n",
    "    if len(c)<5:\n",
    "        cols_to_drop.append(c)\n",
    "df_co = df_co.drop(cols_to_drop, axis=1)\n",
    "df_co"
   ]
  },
  {
   "cell_type": "code",
   "execution_count": null,
   "id": "f7ed5d7c",
   "metadata": {},
   "outputs": [],
   "source": [
    "df_to_cluster = pd.concat([df_co, df_title], axis=1)\n",
    "#df_to_cluster = df_co\n",
    "clustered_cols = df_to_cluster.columns\n",
    "\n",
    "#from sklearn.preprocessing import StandardScaler\n",
    "#scaler = StandardScaler()\n",
    "#df_to_cluster = pd.DataFrame(scaler.fit_transform(df_to_cluster))\n",
    "#df_to_cluster.columns = clustered_cols\n",
    "df_to_cluster"
   ]
  },
  {
   "cell_type": "code",
   "execution_count": null,
   "id": "6db532b3",
   "metadata": {},
   "outputs": [],
   "source": [
    "from sklearn.cluster import AgglomerativeClustering\n",
    "clustering = AgglomerativeClustering(n_clusters=5)#, distance_threshold=1)\n",
    "clusters = clustering.fit_predict(df_to_cluster)\n",
    "labels = pd.DataFrame(clusters)\n",
    "labeled = pd.concat([df_to_cluster,labels],axis=1)\n",
    "labeled = labeled.rename({0:'labels'},axis=1)\n",
    "labeled.labels.value_counts()\n",
    "#labeled"
   ]
  },
  {
   "cell_type": "code",
   "execution_count": null,
   "id": "9ae7769c",
   "metadata": {},
   "outputs": [],
   "source": [
    "from sklearn.cluster import KMeans\n",
    "clustering = KMeans(10)\n",
    "clusters = clustering.fit_predict(df_to_cluster)\n",
    "labels = pd.DataFrame(clusters)\n",
    "labeled = pd.concat([df, df_to_cluster,labels],axis=1)\n",
    "labeled = labeled.rename({0:'labels'},axis=1)\n",
    "labeled.labels.value_counts()\n",
    "#labeled"
   ]
  },
  {
   "cell_type": "code",
   "execution_count": null,
   "id": "96688e3d",
   "metadata": {},
   "outputs": [],
   "source": [
    "labeled[labeled.labels==1]"
   ]
  },
  {
   "cell_type": "code",
   "execution_count": null,
   "id": "6ac4079d",
   "metadata": {},
   "outputs": [],
   "source": [
    "df"
   ]
  },
  {
   "cell_type": "code",
   "execution_count": null,
   "id": "dd1e66fd",
   "metadata": {},
   "outputs": [],
   "source": [
    "labeled"
   ]
  },
  {
   "cell_type": "code",
   "execution_count": null,
   "id": "77c2818d",
   "metadata": {},
   "outputs": [],
   "source": []
  },
  {
   "cell_type": "code",
   "execution_count": null,
   "id": "030480a9",
   "metadata": {},
   "outputs": [],
   "source": [
    "# importing necessary libraries\n",
    "import pandas as pd\n",
    "import numpy as np\n",
    "\n",
    "from kmodes.kmodes import KModes\n",
    "import matplotlib.pyplot as plt\n",
    "%matplotlib inline"
   ]
  },
  {
   "cell_type": "code",
   "execution_count": null,
   "id": "ec503638",
   "metadata": {},
   "outputs": [],
   "source": []
  },
  {
   "cell_type": "code",
   "execution_count": null,
   "id": "2cad4899",
   "metadata": {},
   "outputs": [],
   "source": []
  },
  {
   "cell_type": "code",
   "execution_count": null,
   "id": "0d057e1b",
   "metadata": {},
   "outputs": [],
   "source": []
  },
  {
   "cell_type": "code",
   "execution_count": null,
   "id": "85eada90",
   "metadata": {},
   "outputs": [],
   "source": [
    "df"
   ]
  },
  {
   "cell_type": "code",
   "execution_count": null,
   "id": "8350f904",
   "metadata": {},
   "outputs": [],
   "source": []
  },
  {
   "cell_type": "code",
   "execution_count": null,
   "id": "8832bf9b",
   "metadata": {},
   "outputs": [],
   "source": [
    "len(list(df_title.columns))"
   ]
  },
  {
   "cell_type": "code",
   "execution_count": null,
   "id": "fb038255",
   "metadata": {},
   "outputs": [],
   "source": []
  }
 ],
 "metadata": {
  "kernelspec": {
   "display_name": "Python 3",
   "language": "python",
   "name": "python3"
  },
  "language_info": {
   "codemirror_mode": {
    "name": "ipython",
    "version": 3
   },
   "file_extension": ".py",
   "mimetype": "text/x-python",
   "name": "python",
   "nbconvert_exporter": "python",
   "pygments_lexer": "ipython3",
   "version": "3.9.1"
  }
 },
 "nbformat": 4,
 "nbformat_minor": 5
}
